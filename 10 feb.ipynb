{
 "cells": [
  {
   "cell_type": "code",
   "execution_count": null,
   "id": "cb5b80bf-d509-4482-bda7-c8ee4c1470fe",
   "metadata": {},
   "outputs": [],
   "source": [
    "# 1. which function is used to opend file"
   ]
  },
  {
   "cell_type": "code",
   "execution_count": 38,
   "id": "8ecaff9c-f74b-45b8-90a2-9aa89ed6ab3c",
   "metadata": {},
   "outputs": [
    {
     "name": "stdout",
     "output_type": "stream",
     "text": [
      "I want to become a data scientist.\n",
      "i want to become a  data scientist.\n",
      "\n"
     ]
    }
   ],
   "source": [
    "''' open(\"file name\",\"mode\")\n",
    "    this function is used to open a file .\n",
    "    there are different mode of opening a file such as \n",
    "    1. r- open file in read mode\n",
    "    2. w - open and create a text file in write mode\n",
    "    3. a- open a file in append mode\n",
    "    4.r+ - open a file in both read and write mode\n",
    "    5.w+ - open a file in both read and write mode \n",
    "    \n",
    "'''\n",
    "\n",
    "f= open(\"vikash.txt\",\"r\")\n",
    "content=f.read()\n",
    "print(content)\n",
    "f.close()\n",
    "\n"
   ]
  },
  {
   "cell_type": "code",
   "execution_count": null,
   "id": "98382d26-504e-4aae-ad99-27ffd91cf58a",
   "metadata": {},
   "outputs": [],
   "source": [
    "#2. why closed function is used."
   ]
  },
  {
   "cell_type": "code",
   "execution_count": 32,
   "id": "22bac7d0-da96-4e19-ae0d-205bbeda515b",
   "metadata": {},
   "outputs": [
    {
     "data": {
      "text/plain": [
       "'close() function is used to close the open file  . it is important to closed becouse if the file has any sort of buffering  behind it and you do not call close then\\n   you could potentially lose data.\\n   if the os has limited resources then not closing the file you are wasting the system resources.\\n'"
      ]
     },
     "execution_count": 32,
     "metadata": {},
     "output_type": "execute_result"
    }
   ],
   "source": [
    "'''close() function is used to close the open file  . it is important to closed becouse if the file has any sort of buffering  behind it and you do not call close then\n",
    "   you could potentially lose data.\n",
    "   if the os has limited resources then not closing the file you are wasting the system resources.\n",
    "'''"
   ]
  },
  {
   "cell_type": "code",
   "execution_count": null,
   "id": "ad7d9bdf-e253-4fbd-ada2-6b4d82133dae",
   "metadata": {},
   "outputs": [],
   "source": [
    "# 3. write a phython program\n"
   ]
  },
  {
   "cell_type": "code",
   "execution_count": 72,
   "id": "5bfbf822-d1d2-40f5-b4fd-b023fd1fa343",
   "metadata": {},
   "outputs": [
    {
     "name": "stdout",
     "output_type": "stream",
     "text": [
      "i want become a data scientist\n",
      "\n"
     ]
    }
   ],
   "source": [
    "f= open(\"vikash2.txt\",\"w\")\n",
    "f.write(\"i want become a data scientist\\n\")\n",
    "\n",
    "f.close()\n",
    "f= open(\"vikash2.txt\",\"r\")\n",
    "text= f.read()\n",
    "print(text)\n",
    "f.close()"
   ]
  },
  {
   "cell_type": "code",
   "execution_count": null,
   "id": "0000a827-fe6d-4e10-8c0d-0fb41c942cd0",
   "metadata": {},
   "outputs": [],
   "source": [
    "#4. explain the following in open code"
   ]
  },
  {
   "cell_type": "code",
   "execution_count": 56,
   "id": "8aeab635-83c4-4250-955f-77dbe73e8b28",
   "metadata": {},
   "outputs": [
    {
     "name": "stdout",
     "output_type": "stream",
     "text": [
      "I want to become a data scientist.\n",
      "i want to become a  data scientist.\n",
      "use of read()\n",
      "use of readline()\n",
      "use of readlines()\n",
      "\n"
     ]
    }
   ],
   "source": [
    "# read() it is used for read all content at a time \n",
    "f=open(\"vikash.txt\",\"r\")\n",
    "content=f.read()\n",
    "print(content)\n",
    "#for i in f:\n",
    " #   print(i)\n",
    "f.close()\n",
    "\n"
   ]
  },
  {
   "cell_type": "code",
   "execution_count": 55,
   "id": "bc428fa7-8863-4e7c-8976-4df32d1d6a23",
   "metadata": {},
   "outputs": [
    {
     "name": "stdout",
     "output_type": "stream",
     "text": [
      "I want to become a data scientist.\n",
      "\n",
      "i want to become a  data scientist.\n",
      "\n",
      "use of read()\n",
      "\n"
     ]
    }
   ],
   "source": [
    "# readline it is used for read content line by line\n",
    "f=open(\"vikash.txt\",\"r\")\n",
    "print(f.readline())\n",
    "print(f.readline())\n",
    "print(f.readline())\n",
    "f.close()\n"
   ]
  },
  {
   "cell_type": "code",
   "execution_count": 54,
   "id": "566440cd-c0f7-4b16-85d5-4d93fa40f200",
   "metadata": {},
   "outputs": [
    {
     "name": "stdout",
     "output_type": "stream",
     "text": [
      "['I want to become a data scientist.\\n', 'i want to become a  data scientist.\\n', 'use of read()\\n', 'use of readline()\\n', 'use of readlines()\\n']\n"
     ]
    }
   ],
   "source": [
    "# readlines it is used to read all content read in a single line\n",
    "f=open(\"vikash.txt\",\"r\")\n",
    "print(f.readlines())\n",
    "\n",
    "f.close()"
   ]
  },
  {
   "cell_type": "code",
   "execution_count": null,
   "id": "9a1fd1eb-0f20-4ae5-943c-fd597bf02ce5",
   "metadata": {},
   "outputs": [],
   "source": [
    "# 5. explai the following with statement"
   ]
  },
  {
   "cell_type": "code",
   "execution_count": null,
   "id": "4e0b51c4-fd1f-4629-ab49-1d3560223725",
   "metadata": {},
   "outputs": [],
   "source": [
    "# in open ()  necessary to close the open file in system \n",
    "# with statement  close the open file for you without you telling it to.\n",
    "# this is becouse  with statement calls 2 built in method behind the scence -__enter__,__exit__. "
   ]
  },
  {
   "cell_type": "code",
   "execution_count": 76,
   "id": "40aa1750-b632-4bb4-9ca5-53087dc04542",
   "metadata": {},
   "outputs": [
    {
     "name": "stdout",
     "output_type": "stream",
     "text": [
      "this is text file \n",
      "my name is vikash\n",
      "\n"
     ]
    }
   ],
   "source": [
    "f= open(\"vikash3.txt\",\"r\")\n",
    "\n",
    "print(f.read())\n",
    "f.close()"
   ]
  },
  {
   "cell_type": "code",
   "execution_count": 64,
   "id": "5dd1639e-6ea3-4918-8d7b-e5edaf8d6fb9",
   "metadata": {},
   "outputs": [
    {
     "name": "stdout",
     "output_type": "stream",
     "text": [
      "this is text file \n",
      "my name is vikash\n",
      "\n"
     ]
    }
   ],
   "source": [
    "with open(\"vikash3.txt\") as f:\n",
    "    print(f.read())"
   ]
  },
  {
   "cell_type": "code",
   "execution_count": 67,
   "id": "10d8b586-a74e-4c2e-b166-b8a3ba1c8151",
   "metadata": {},
   "outputs": [
    {
     "name": "stdout",
     "output_type": "stream",
     "text": [
      "this is text file \n",
      "\n",
      "my name is vikash\n",
      "\n"
     ]
    }
   ],
   "source": [
    "with open(\"vikash3.txt\") as f:\n",
    "    for i in f:\n",
    "        print(i)"
   ]
  },
  {
   "cell_type": "code",
   "execution_count": null,
   "id": "2ec7543f-aedb-4233-a168-db14e0d81fbd",
   "metadata": {},
   "outputs": [],
   "source": [
    "# 6. explain the write () and write"
   ]
  },
  {
   "cell_type": "code",
   "execution_count": 104,
   "id": "3253c03a-9e5e-4685-9aa6-8d92241acf54",
   "metadata": {},
   "outputs": [
    {
     "name": "stdin",
     "output_type": "stream",
     "text": [
      "enter the line hello \n",
      "enter the line my name is vikash\n",
      "enter the line i want to become a data scientist\n"
     ]
    },
    {
     "name": "stdout",
     "output_type": "stream",
     "text": [
      "hello \n",
      "my name is vikash\n",
      "i want to become a data scientist\n",
      "\n"
     ]
    }
   ],
   "source": [
    "f=open(\"vikash4.txt\",\"w\")\n",
    "\n",
    "for i in range(3):\n",
    "    line = input(\"enter the line\")\n",
    "    f.write(line)\n",
    "    f.write(\"\\n\")\n",
    "f.close()\n",
    "f= open(\"vikash4.txt\",\"r\")\n",
    "print(f.read())\n",
    "f.close()"
   ]
  },
  {
   "cell_type": "code",
   "execution_count": 100,
   "id": "59ee7a31-5c10-42d7-bb03-6515fb99772a",
   "metadata": {},
   "outputs": [
    {
     "name": "stdin",
     "output_type": "stream",
     "text": [
      "enter the lines hello\n",
      "enter the lines my name is vikash\n",
      "enter the lines i want to become a data scientist\n"
     ]
    },
    {
     "name": "stdout",
     "output_type": "stream",
     "text": [
      "hello\n",
      "my name is vikash\n",
      "i want to become a data scientist\n",
      "\n"
     ]
    }
   ],
   "source": [
    "f=open(\"vikash4.txt\",\"w\")\n",
    "li=[]\n",
    "for i in range(3):\n",
    "      line= input(\"enter the lines\")\n",
    "      li.append(line+'\\n')\n",
    "f.writelines(li)\n",
    "f.close()\n",
    "f= open(\"vikash4.txt\",\"r\")\n",
    "print(f.read())\n",
    "f.close()"
   ]
  },
  {
   "cell_type": "code",
   "execution_count": null,
   "id": "4187b2b2-8422-489c-b688-e4dcbf0d474e",
   "metadata": {},
   "outputs": [],
   "source": [
    "''' write () is used to write a string\n",
    "writelines() is used to write a list of string in opend file'''"
   ]
  },
  {
   "cell_type": "code",
   "execution_count": null,
   "id": "0bdf4203-0830-447e-b10a-e75101a9aee2",
   "metadata": {},
   "outputs": [],
   "source": []
  },
  {
   "cell_type": "code",
   "execution_count": null,
   "id": "903c4afa-8289-4307-9648-4eacd2fbd2ce",
   "metadata": {},
   "outputs": [],
   "source": []
  },
  {
   "cell_type": "code",
   "execution_count": null,
   "id": "edac32a8-1128-4c3c-acb7-1d4bb8977a45",
   "metadata": {},
   "outputs": [],
   "source": []
  },
  {
   "cell_type": "code",
   "execution_count": null,
   "id": "4969aced-0a6b-463d-b1be-bc7ef010ff4c",
   "metadata": {},
   "outputs": [],
   "source": []
  },
  {
   "cell_type": "code",
   "execution_count": null,
   "id": "df80e14d-c3c0-4a38-8dea-790979fc80dc",
   "metadata": {},
   "outputs": [],
   "source": []
  },
  {
   "cell_type": "code",
   "execution_count": null,
   "id": "c6f7290b-f186-45b3-b31c-289e6ab8b0c1",
   "metadata": {},
   "outputs": [],
   "source": []
  },
  {
   "cell_type": "code",
   "execution_count": null,
   "id": "7050ae10-6223-4b19-b106-848f95a9f954",
   "metadata": {},
   "outputs": [],
   "source": []
  },
  {
   "cell_type": "code",
   "execution_count": null,
   "id": "2075932c-ad74-4359-871c-91119c197a7b",
   "metadata": {},
   "outputs": [],
   "source": []
  },
  {
   "cell_type": "code",
   "execution_count": null,
   "id": "24d70ca8-41d2-4c9d-876f-7abff5d4f849",
   "metadata": {},
   "outputs": [],
   "source": []
  },
  {
   "cell_type": "code",
   "execution_count": null,
   "id": "c8397415-5942-43e8-82ae-fa5723f0d1da",
   "metadata": {},
   "outputs": [],
   "source": []
  },
  {
   "cell_type": "code",
   "execution_count": null,
   "id": "0db5850e-4fcf-446b-94d2-3a91a9fb3bc8",
   "metadata": {},
   "outputs": [],
   "source": []
  },
  {
   "cell_type": "code",
   "execution_count": null,
   "id": "dd16136a-6859-4e8f-a902-cfd4f211c76c",
   "metadata": {},
   "outputs": [],
   "source": []
  },
  {
   "cell_type": "code",
   "execution_count": null,
   "id": "ebebae8c-81bc-435c-80a0-8462eef593de",
   "metadata": {},
   "outputs": [],
   "source": []
  },
  {
   "cell_type": "code",
   "execution_count": null,
   "id": "d9396fd4-71bf-4e02-8665-a257f9706f36",
   "metadata": {},
   "outputs": [],
   "source": []
  },
  {
   "cell_type": "code",
   "execution_count": null,
   "id": "8f982800-efce-43cd-be9c-517e8f8837ee",
   "metadata": {},
   "outputs": [],
   "source": []
  }
 ],
 "metadata": {
  "kernelspec": {
   "display_name": "Python 3 (ipykernel)",
   "language": "python",
   "name": "python3"
  },
  "language_info": {
   "codemirror_mode": {
    "name": "ipython",
    "version": 3
   },
   "file_extension": ".py",
   "mimetype": "text/x-python",
   "name": "python",
   "nbconvert_exporter": "python",
   "pygments_lexer": "ipython3",
   "version": "3.10.8"
  }
 },
 "nbformat": 4,
 "nbformat_minor": 5
}
